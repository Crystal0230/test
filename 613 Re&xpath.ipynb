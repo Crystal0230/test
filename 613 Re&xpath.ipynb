{
 "cells": [
  {
   "cell_type": "markdown",
   "metadata": {},
   "source": [
    "# XPATH"
   ]
  },
  {
   "cell_type": "code",
   "execution_count": 1,
   "metadata": {},
   "outputs": [
    {
     "name": "stdout",
     "output_type": "stream",
     "text": [
      "[<Element a at 0x179276ff708>, <Element a at 0x179276ff7c8>, <Element a at 0x179276ff808>, <Element a at 0x179276ff848>, <Element a at 0x179276ff888>, <Element a at 0x179276ff908>, <Element a at 0x179276ff948>, <Element a at 0x179276ff988>, <Element a at 0x179276ff9c8>, <Element a at 0x179276ff8c8>, <Element a at 0x179276ffa08>, <Element a at 0x179276ffa48>, <Element a at 0x179276ffa88>]\n"
     ]
    }
   ],
   "source": [
    "import requests\n",
    "b=requests.get('http://www.17k.com/book/2397656.html')\n",
    "from lxml import etree\n",
    "tree = etree.HTML(b.text)\n",
    "book=tree.xpath('//body/div[@class=\"Nav\"]/div/a')\n",
    "print(book)"
   ]
  },
  {
   "cell_type": "code",
   "execution_count": 2,
   "metadata": {},
   "outputs": [
    {
     "name": "stdout",
     "output_type": "stream",
     "text": [
      "['http://www.17k.com/', 'http://top.17k.com/', 'http://all.17k.com/lib/book.html', 'http://zhuanti.17k.com/subject/2017dsip/pc/index.html', 'http://www.17k.com/man/', 'http://mm.17k.com/', 'http://www.17k.com/gexing/', 'http://www.17k.com/adaptation/index.html', 'http://www.17k.com/mianfei/', 'http://www.17k.com/quanben/', 'http://bbs.17k.com', 'http://www.17k.com/download/', 'http://wan.17k.com/jump/nyfpl71']\n"
     ]
    }
   ],
   "source": [
    "import requests\n",
    "b=requests.get('http://www.17k.com/book/2397656.html')\n",
    "from lxml import etree\n",
    "tree = etree.HTML(b.text)\n",
    "book=tree.xpath('//body/div[@class=\"Nav\"]/div/a[@href]/@href')\n",
    "print(book)"
   ]
  },
  {
   "cell_type": "markdown",
   "metadata": {},
   "source": [
    "# Re"
   ]
  },
  {
   "cell_type": "code",
   "execution_count": 3,
   "metadata": {},
   "outputs": [
    {
     "name": "stdout",
     "output_type": "stream",
     "text": [
      "4\n",
      "2\n",
      "456\n"
     ]
    }
   ],
   "source": [
    "import re\n",
    "content = 'Hello 1234567 hahah 123 lalal 456'\n",
    "res = re.match('^Hello.*\\d{3}(\\d)\\d{3}\\s.*\\d{1}(\\d)\\d{1}.*\\s\\.*?(\\d+)',content)\n",
    "print(res.group(1))\n",
    "print(res.group(2))\n",
    "print(res.group(3))"
   ]
  },
  {
   "cell_type": "code",
   "execution_count": null,
   "metadata": {},
   "outputs": [],
   "source": []
  }
 ],
 "metadata": {
  "kernelspec": {
   "display_name": "Python 3",
   "language": "python",
   "name": "python3"
  },
  "language_info": {
   "codemirror_mode": {
    "name": "ipython",
    "version": 3
   },
   "file_extension": ".py",
   "mimetype": "text/x-python",
   "name": "python",
   "nbconvert_exporter": "python",
   "pygments_lexer": "ipython3",
   "version": "3.6.4"
  }
 },
 "nbformat": 4,
 "nbformat_minor": 2
}
